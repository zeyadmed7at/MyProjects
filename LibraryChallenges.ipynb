{
 "cells": [
  {
   "cell_type": "markdown",
   "metadata": {},
   "source": [
    "# Python Connect Online DB "
   ]
  },
  {
   "cell_type": "code",
   "execution_count": 2,
   "metadata": {},
   "outputs": [
    {
     "name": "stdout",
     "output_type": "stream",
     "text": [
      "<mysql.connector.connection_cext.CMySQLConnection object at 0x116db69d0>\n"
     ]
    }
   ],
   "source": [
    "import mysql.connector\n",
    "\n",
    "# Creating connection object\n",
    "mydb_conn = mysql.connector.connect(\n",
    "    host = \"mysql-249318cb-zeyadmedhat-4161.f.aivencloud.com\",\n",
    "    user = \"avnadmin\",\n",
    "    password = \"AVNS_tQUDqMdUkSIiLIYFWMp\",\n",
    "    port=18607,\n",
    "    database='library'\n",
    ")\n",
    "\n",
    "# Printing the connection object\n",
    "print(mydb_conn)\n"
   ]
  },
  {
   "cell_type": "code",
   "execution_count": 3,
   "metadata": {},
   "outputs": [
    {
     "data": {
      "text/plain": [
       "<mysql.connector.cursor_cext.CMySQLCursor at 0x106429af0>"
      ]
     },
     "execution_count": 3,
     "metadata": {},
     "output_type": "execute_result"
    }
   ],
   "source": [
    "cursor = mydb_conn.cursor()\n",
    "cursor"
   ]
  },
  {
   "cell_type": "code",
   "execution_count": 4,
   "metadata": {},
   "outputs": [
    {
     "data": {
      "text/plain": [
       "[(3,)]"
      ]
     },
     "execution_count": 4,
     "metadata": {},
     "output_type": "execute_result"
    }
   ],
   "source": [
    "# /******************* In the Library *********************/\n",
    "\n",
    "# /*******************************************************/\n",
    "# /* find the number of availalbe copies of the book (Dracula)      */\n",
    "# /*******************************************************/\n",
    "\n",
    "# /* check total copies of the book */\n",
    "# -- your code\n",
    "\n",
    "cursor.execute(\"\"\"\n",
    "SELECT COUNT(*) AS Total_Copies FROM Books\n",
    "WHERE Title = 'Dracula';\n",
    "\"\"\")\n",
    "cursor.fetchall()"
   ]
  },
  {
   "cell_type": "code",
   "execution_count": 5,
   "metadata": {},
   "outputs": [
    {
     "data": {
      "text/plain": [
       "[(1,)]"
      ]
     },
     "execution_count": 5,
     "metadata": {},
     "output_type": "execute_result"
    }
   ],
   "source": [
    "# /* current total loans of the book */\n",
    "# -- your code\n",
    "\n",
    "cursor.execute(\"\"\"\n",
    "SELECT COUNT(*) AS Loaned_Copies FROM Loans AS l\n",
    "INNER JOIN Books AS b ON l.BookID = b.BookID\n",
    "WHERE b.Title = 'Dracula' AND l.ReturnedDate IS NULL;\n",
    "\"\"\")\n",
    "cursor.fetchall()"
   ]
  },
  {
   "cell_type": "code",
   "execution_count": 6,
   "metadata": {},
   "outputs": [
    {
     "data": {
      "text/plain": [
       "[(2,)]"
      ]
     },
     "execution_count": 6,
     "metadata": {},
     "output_type": "execute_result"
    }
   ],
   "source": [
    "# /* total available books of dracula */\n",
    "# -- your code\n",
    "\n",
    "cursor.execute(\"\"\"\n",
    "SELECT \n",
    "    (SELECT COUNT(*) AS Total_Copies FROM Books\n",
    "\tWHERE Title = 'Dracula') - \n",
    "    (SELECT COUNT(*) AS Loaned_Copies FROM Loans AS l\n",
    "\tINNER JOIN Books AS b ON l.BookID = b.BookID\n",
    "\tWHERE b.Title = 'Dracula' AND l.ReturnedDate IS NULL) AS Available_Copies;\n",
    "\"\"\")\n",
    "cursor.fetchall()"
   ]
  },
  {
   "cell_type": "code",
   "execution_count": 7,
   "metadata": {},
   "outputs": [
    {
     "data": {
      "text/plain": [
       "[]"
      ]
     },
     "execution_count": 7,
     "metadata": {},
     "output_type": "execute_result"
    }
   ],
   "source": [
    "# /*******************************************************/\n",
    "# /* Add new books to the library                        */\n",
    "# /*******************************************************/\n",
    "# -- your code\n",
    "\n",
    "cursor.execute(\"\"\"\n",
    "INSERT INTO Books VALUES (201, 'Rich Dad Poor Dad', 'Robert Kiyosaki', 1997, 1234567890);\n",
    "\"\"\")\n",
    "cursor.fetchall()"
   ]
  },
  {
   "cell_type": "code",
   "execution_count": 8,
   "metadata": {},
   "outputs": [
    {
     "data": {
      "text/plain": [
       "[]"
      ]
     },
     "execution_count": 8,
     "metadata": {},
     "output_type": "execute_result"
    }
   ],
   "source": [
    "# /*******************************************************/\n",
    "# /* Check out Books: books(4043822646, 2855934983) whose patron_email(jvaan@wisdompets.com), loandate=2020-08-25, duedate=2020-09-08, loanid=by_your_choice*/\n",
    "# /*******************************************************/\n",
    "# -- your code\n",
    "\n",
    "cursor.execute(\"\"\"\n",
    "INSERT INTO Loans (LoanID,BookID,PatronID,LoanDate,DueDate,ReturnedDate)\n",
    "VALUES \n",
    "(\n",
    "\t2001,\n",
    "\t(SELECT BookID FROM Books WHERE Barcode = 4043822646),\n",
    "\t(SELECT PatronID FROM Patrons WHERE Email = 'jvaan@wisdompets.com'),\n",
    "    '2020-08-25',\n",
    "    '2020-09-08',\n",
    "    NULL\n",
    "),\n",
    "(\n",
    "\t2002,\n",
    "\t(SELECT BookID FROM Books WHERE Barcode = 2855934983),\n",
    "\t(SELECT PatronID FROM Patrons WHERE Email = 'jvaan@wisdompets.com'),\n",
    "    '2020-08-25',\n",
    "    '2020-09-08',\n",
    "    NULL\n",
    ");\n",
    "\"\"\")\n",
    "\n",
    "cursor.fetchall()"
   ]
  },
  {
   "cell_type": "code",
   "execution_count": 9,
   "metadata": {},
   "outputs": [
    {
     "data": {
      "text/plain": [
       "[(18,\n",
       "  'Anthe',\n",
       "  'Dinjes',\n",
       "  'adinjesh@samoca.org',\n",
       "  169,\n",
       "  'Second Treatise of Government',\n",
       "  '2020-07-13'),\n",
       " (47,\n",
       "  'Lydie',\n",
       "  'Awmack',\n",
       "  'lawmack1a@samoca.org',\n",
       "  155,\n",
       "  'The Prophet',\n",
       "  '2020-07-13'),\n",
       " (59,\n",
       "  'Cornelia',\n",
       "  'Koppe',\n",
       "  'ckoppe1m@landonhotel.com',\n",
       "  73,\n",
       "  'Dracula',\n",
       "  '2020-07-13'),\n",
       " (99,\n",
       "  'Kala',\n",
       "  'Simonian',\n",
       "  'ksimonian2q@landonhotel.com',\n",
       "  10,\n",
       "  'The Count of Monte Cristo',\n",
       "  '2020-07-13')]"
      ]
     },
     "execution_count": 9,
     "metadata": {},
     "output_type": "execute_result"
    }
   ],
   "source": [
    "# /********************************************************/\n",
    "# /* Check books for Due back                             */\n",
    "# /* generate a report of books due back on July 13, 2020 */\n",
    "# /* with patron contact information                      */\n",
    "# /********************************************************/\n",
    "# -- your code\n",
    "\n",
    "cursor.execute(\"\"\"\n",
    "SELECT p.PatronID, p.FirstName, p.LastName, p.Email, b.BookID, b.Title, l.DueDate FROM Loans AS l\n",
    "INNER JOIN Books AS b ON l.BookID = b.BookID\n",
    "INNER JOIN Patrons AS p ON l.PatronID = p.PatronID\n",
    "WHERE l.DueDate = '2020-07-13' AND l.ReturnedDate IS NULL;\n",
    "\"\"\")\n",
    "\n",
    "cursor.fetchall()"
   ]
  },
  {
   "cell_type": "code",
   "execution_count": 10,
   "metadata": {},
   "outputs": [
    {
     "data": {
      "text/plain": [
       "[]"
      ]
     },
     "execution_count": 10,
     "metadata": {},
     "output_type": "execute_result"
    }
   ],
   "source": [
    "# /*******************************************************/\n",
    "# /* Return books to the library (which have barcode=6435968624) and return this book at this date(2020-07-05)                    */\n",
    "# /*******************************************************/\n",
    "# -- your code\n",
    "\n",
    "cursor.execute(\"\"\"\n",
    "UPDATE Loans \n",
    "SET ReturnedDate = '2020-07-05'\n",
    "WHERE BookID = (SELECT BookID FROM Books WHERE Barcode = 6435968624) AND ReturnedDate IS NULL;\n",
    "\"\"\")\n",
    "\n",
    "cursor.fetchall()"
   ]
  },
  {
   "cell_type": "code",
   "execution_count": 11,
   "metadata": {},
   "outputs": [
    {
     "data": {
      "text/plain": [
       "[(83, 'Caril', 'Matejic', 'cmatejic2a@orangevalleycaa.org', 9),\n",
       " (69, 'Alaster', 'Ruggles', 'aruggles1w@red30design.com', 9),\n",
       " (73, 'Merle', 'Sukbhans', 'msukbhans20@orangevalleycaa.org', 11),\n",
       " (64, 'Norby', 'Sleight', 'nsleight1r@kinetecoinc.com', 12),\n",
       " (94, 'Curr', 'Fittall', 'cfittall2l@orangevalleycaa.org', 12),\n",
       " (12, 'Orton', 'Stavers', 'ostaversb@orangevalleycaa.org', 14),\n",
       " (16, 'Carla', 'Swinfen', 'cswinfenf@kinetecoinc.com', 14),\n",
       " (7, 'Cammi', 'Kynett', 'ckynett6@orangevalleycaa.org', 14),\n",
       " (3, 'Aleen', 'Fasey', 'afasey2@kinetecoinc.com', 14),\n",
       " (21, 'Henri', 'Pughe', 'hpughek@orangevalleycaa.org', 15)]"
      ]
     },
     "execution_count": 11,
     "metadata": {},
     "output_type": "execute_result"
    }
   ],
   "source": [
    "# /*******************************************************/\n",
    "# /* Encourage Patrons to check out books                */\n",
    "# /* generate a report of showing 10 patrons who have\n",
    "# checked out the fewest books.                          */\n",
    "# /*******************************************************/\n",
    "# -- your code\n",
    "\n",
    "cursor.execute(\"\"\"\n",
    "SELECT p.PatronID, p.FirstName, p.LastName, p.Email, COUNT(l.LoanID) AS books_borrowed FROM Patrons AS p\n",
    "LEFT JOIN Loans AS l ON p.PatronID = l.PatronID\n",
    "GROUP BY p.PatronID\n",
    "ORDER BY books_borrowed ASC\n",
    "LIMIT 10;\n",
    "\"\"\")\n",
    "\n",
    "cursor.fetchall()"
   ]
  },
  {
   "cell_type": "code",
   "execution_count": 12,
   "metadata": {},
   "outputs": [
    {
     "data": {
      "text/plain": [
       "[(3,\n",
       "  'The Adventures of Sherlock Holmes',\n",
       "  'Arthur Conan Doyle',\n",
       "  1892,\n",
       "  2411676280),\n",
       " (7, 'The Sign of the Four', 'Arthur Conan Doyle', 1890, 9615072124),\n",
       " (8,\n",
       "  'The Importance of Being Earnest: A Trivial Comedy for Serious People',\n",
       "  'Oscar Wilde',\n",
       "  1895,\n",
       "  4733732465),\n",
       " (12, 'Dracula', 'Bram Stoker', 1897, 8232533734),\n",
       " (14,\n",
       "  'The Awakening, and Selected Short Stories',\n",
       "  'Kate Chopin',\n",
       "  1899,\n",
       "  3103139173),\n",
       " (15, 'The Time Machine', 'H. G. Wells', 1895, 9610930110),\n",
       " (17, 'Les Misérables', 'Victor Hugo', 1895, 8252831254),\n",
       " (18, 'The Jungle Book', 'Rudyard Kipling', 1894, 3655763446),\n",
       " (19, 'Heart of Darkness', 'Joseph Conrad', 1899, 9334362486),\n",
       " (26,\n",
       "  'The Adventures of Sherlock Holmes',\n",
       "  'Arthur Conan Doyle',\n",
       "  1892,\n",
       "  6117891368),\n",
       " (28, 'Heart of Darkness', 'Joseph Conrad', 1899, 2229312049),\n",
       " (43, 'The Yellow Wallpaper', 'Charlotte Perkins Gilman', 1892, 7476179474),\n",
       " (54, 'The Yellow Wallpaper', 'Charlotte Perkins Gilman', 1892, 2503974912),\n",
       " (55, 'An Occurrence at Owl Creek Bridge', 'Ambrose Bierce', 1890, 6432246701),\n",
       " (56, 'The Picture of Dorian Gray', 'Oscar Wilde', 1890, 5057915174),\n",
       " (59, 'The War of the Worlds', 'H. G. Wells', 1898, 7360406327),\n",
       " (60, 'Dracula', 'Bram Stoker', 1897, 4274716715),\n",
       " (67, 'Les Misérables', 'Victor Hugo', 1895, 6502926567),\n",
       " (70,\n",
       "  'Also sprach Zarathustra',\n",
       "  'Friedrich Wilhelm Nietzsche',\n",
       "  1896,\n",
       "  8233453745),\n",
       " (72, 'The Yellow Wallpaper', 'Charlotte Perkins Gilman', 1892, 8015869193),\n",
       " (98, 'An Occurrence at Owl Creek Bridge', 'Ambrose Bierce', 1890, 6854696214),\n",
       " (100, 'The Jungle Book', 'Rudyard Kipling', 1894, 9443427576),\n",
       " (105, 'The Turn of the Screw', 'Henry James', 1898, 6435968624),\n",
       " (112, 'The War of the Worlds', 'H. G. Wells', 1898, 7919408621),\n",
       " (117, 'The Time Machine', 'H. G. Wells', 1895, 7267049081),\n",
       " (124,\n",
       "  'The Adventures of Sherlock Holmes',\n",
       "  'Arthur Conan Doyle',\n",
       "  1892,\n",
       "  7776442868),\n",
       " (126,\n",
       "  'The Awakening, and Selected Short Stories',\n",
       "  'Kate Chopin',\n",
       "  1899,\n",
       "  9895378062),\n",
       " (128, 'The Picture of Dorian Gray', 'Oscar Wilde', 1890, 3664785630),\n",
       " (129,\n",
       "  'Also sprach Zarathustra',\n",
       "  'Friedrich Wilhelm Nietzsche',\n",
       "  1896,\n",
       "  8880867275),\n",
       " (134, 'The Sign of the Four', 'Arthur Conan Doyle', 1890, 9535295098),\n",
       " (138, 'The Sign of the Four', 'Arthur Conan Doyle', 1890, 6652171593),\n",
       " (149,\n",
       "  'The Importance of Being Earnest: A Trivial Comedy for Serious People',\n",
       "  'Oscar Wilde',\n",
       "  1895,\n",
       "  2054382275),\n",
       " (157, 'Les Misérables', 'Victor Hugo', 1895, 9108696047),\n",
       " (160, 'The War of the Worlds', 'H. G. Wells', 1898, 4474735051),\n",
       " (165, 'The Turn of the Screw', 'Henry James', 1898, 2119519594),\n",
       " (175, 'The Time Machine', 'H. G. Wells', 1895, 1291355714),\n",
       " (189, 'The Jungle Book', 'Rudyard Kipling', 1894, 2183505735),\n",
       " (192, 'The Turn of the Screw', 'Henry James', 1898, 9586004168),\n",
       " (196,\n",
       "  'The Awakening, and Selected Short Stories',\n",
       "  'Kate Chopin',\n",
       "  1899,\n",
       "  5859811018)]"
      ]
     },
     "execution_count": 12,
     "metadata": {},
     "output_type": "execute_result"
    }
   ],
   "source": [
    "# /*******************************************************/\n",
    "# /* Find books to feature for an event                  \n",
    "#  create a list of books from 1890s that are\n",
    "#  currently available                                    */\n",
    "# /*******************************************************/\n",
    "# -- your code\n",
    "\n",
    "cursor.execute(\"\"\"\n",
    "SELECT * FROM Books\n",
    "WHERE Published BETWEEN 1890 AND 1899 AND BookID NOT IN (SELECT BookID FROM Loans WHERE ReturnedDate IS NULL);\n",
    "\"\"\")\n",
    "\n",
    "cursor.fetchall()"
   ]
  },
  {
   "cell_type": "code",
   "execution_count": 13,
   "metadata": {},
   "outputs": [
    {
     "data": {
      "text/plain": [
       "[(1890, 3),\n",
       " (1895, 3),\n",
       " (1911, 2),\n",
       " (1899, 2),\n",
       " (1850, 2),\n",
       " (1898, 2),\n",
       " (1847, 2),\n",
       " (1859, 2),\n",
       " (1869, 2),\n",
       " (1892, 2),\n",
       " (1922, 2),\n",
       " (1884, 2),\n",
       " (1901, 1),\n",
       " (1894, 1),\n",
       " (1896, 1),\n",
       " (1897, 1),\n",
       " (1889, 1),\n",
       " (1887, 1),\n",
       " (1900, 1),\n",
       " (1880, 1),\n",
       " (1902, 1),\n",
       " (1905, 1),\n",
       " (1906, 1),\n",
       " (1908, 1),\n",
       " (1913, 1),\n",
       " (1914, 1),\n",
       " (1915, 1),\n",
       " (1920, 1),\n",
       " (1921, 1),\n",
       " (1923, 1),\n",
       " (1997, 1),\n",
       " (1839, 1),\n",
       " (1532, 1),\n",
       " (1605, 1),\n",
       " (1670, 1),\n",
       " (1689, 1),\n",
       " (1726, 1),\n",
       " (1729, 1),\n",
       " (1759, 1),\n",
       " (1791, 1),\n",
       " (1811, 1),\n",
       " (1813, 1),\n",
       " (1815, 1),\n",
       " (1818, 1),\n",
       " (1886, 1),\n",
       " (1849, 1),\n",
       " (1851, 1),\n",
       " (1852, 1),\n",
       " (1854, 1),\n",
       " (1858, 1),\n",
       " (1861, 1),\n",
       " (1865, 1),\n",
       " (1876, 1),\n",
       " (1878, 1),\n",
       " (1879, 1),\n",
       " (1375, 1),\n",
       " (1883, 1)]"
      ]
     },
     "execution_count": 13,
     "metadata": {},
     "output_type": "execute_result"
    }
   ],
   "source": [
    "# /*******************************************************/\n",
    "# /* Book Statistics \n",
    "# /* create a report to show how many books were \n",
    "# published each year.                                    */\n",
    "# /*******************************************************/\n",
    "\n",
    "cursor.execute(\"\"\"\n",
    "SELECT Published, COUNT(DISTINCT(Title)) AS TotalNumberOfPublishedBooks FROM Books\n",
    "GROUP BY Published\n",
    "ORDER BY TotalNumberOfPublishedBooks DESC;\n",
    "\"\"\")\n",
    "\n",
    "cursor.fetchall()"
   ]
  },
  {
   "cell_type": "code",
   "execution_count": 14,
   "metadata": {},
   "outputs": [
    {
     "data": {
      "text/plain": [
       "[(78, 'The Prophet', 'Kahlil Gibran', 1923, 11),\n",
       " (155, 'The Prophet', 'Kahlil Gibran', 1923, 9),\n",
       " (77, 'The Prophet', 'Kahlil Gibran', 1923, 9),\n",
       " (69, 'Siddhartha', 'Hermann Hesse', 1922, 11),\n",
       " (184, 'Ulysses', 'James Joyce', 1922, 9)]"
      ]
     },
     "execution_count": 14,
     "metadata": {},
     "output_type": "execute_result"
    }
   ],
   "source": [
    "# /*************************************************************/\n",
    "# /* Book Statistics                                           */\n",
    "# /* create a report to show 5 most popular Books to check out */\n",
    "# /*************************************************************/\n",
    "\n",
    "cursor.execute(\"\"\"\n",
    "SELECT b.BookID, b.Title, b.Author, b.Published, COUNT(l.LoanID) AS TotalTimesOfLoans FROM Books b\n",
    "JOIN Loans l ON b.BookID = l.BookID\n",
    "GROUP BY b.BookID\n",
    "ORDER BY 4 DESC\n",
    "LIMIT 5;\n",
    "\"\"\")\n",
    "\n",
    "cursor.fetchall()"
   ]
  },
  {
   "cell_type": "code",
   "execution_count": null,
   "metadata": {},
   "outputs": [],
   "source": [
    "# -- BONUS\n",
    "# -- 15. Select shipper together with the total price of proceed orders\n",
    "\n",
    "cursor.execute(\"\"\"\n",
    "SELECT s.ShipperName, SUM(od.Quantity * p.Price) AS Total_Price FROM orders as o\n",
    "INNER JOIN shippers as s ON o.ShipperID = s.ShipperID\n",
    "INNER JOIN order_details as od ON o.OrderID = od.OrderID\n",
    "INNER JOIN products as p ON od.ProductID = p.ProductID\n",
    "GROUP BY s.ShipperName;\n",
    "\"\"\")\n",
    "\n",
    "cursor.fetchall()"
   ]
  }
 ],
 "metadata": {
  "kernelspec": {
   "display_name": "machine_learning",
   "language": "python",
   "name": "python3"
  },
  "language_info": {
   "codemirror_mode": {
    "name": "ipython",
    "version": 3
   },
   "file_extension": ".py",
   "mimetype": "text/x-python",
   "name": "python",
   "nbconvert_exporter": "python",
   "pygments_lexer": "ipython3",
   "version": "3.9.19"
  }
 },
 "nbformat": 4,
 "nbformat_minor": 2
}
